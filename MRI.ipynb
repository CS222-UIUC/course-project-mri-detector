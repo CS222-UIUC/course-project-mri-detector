{
  "cells": [
    {
      "cell_type": "markdown",
      "metadata": {
        "id": "view-in-github",
        "colab_type": "text"
      },
      "source": [
        "<a href=\"https://colab.research.google.com/github/CS222-UIUC/course-project-mri-detector/blob/ViT/MRI.ipynb\" target=\"_parent\"><img src=\"https://colab.research.google.com/assets/colab-badge.svg\" alt=\"Open In Colab\"/></a>"
      ]
    },
    {
      "cell_type": "code",
      "execution_count": null,
      "metadata": {
        "colab": {
          "base_uri": "https://localhost:8080/"
        },
        "id": "vRay-IKmIlH4",
        "outputId": "6b276de4-e93d-445e-91a5-417e24166278"
      },
      "outputs": [
        {
          "name": "stdout",
          "output_type": "stream",
          "text": [
            "Looking in indexes: https://pypi.org/simple, https://us-python.pkg.dev/colab-wheels/public/simple/\n",
            "Collecting flask-ngrok\n",
            "  Downloading flask_ngrok-0.0.25-py3-none-any.whl (3.1 kB)\n",
            "Requirement already satisfied: requests in /usr/local/lib/python3.8/dist-packages (from flask-ngrok) (2.25.1)\n",
            "Requirement already satisfied: Flask>=0.8 in /usr/local/lib/python3.8/dist-packages (from flask-ngrok) (2.2.3)\n",
            "Requirement already satisfied: importlib-metadata>=3.6.0 in /usr/local/lib/python3.8/dist-packages (from Flask>=0.8->flask-ngrok) (6.0.0)\n",
            "Requirement already satisfied: Jinja2>=3.0 in /usr/local/lib/python3.8/dist-packages (from Flask>=0.8->flask-ngrok) (3.1.2)\n",
            "Requirement already satisfied: click>=8.0 in /usr/local/lib/python3.8/dist-packages (from Flask>=0.8->flask-ngrok) (8.1.3)\n",
            "Requirement already satisfied: itsdangerous>=2.0 in /usr/local/lib/python3.8/dist-packages (from Flask>=0.8->flask-ngrok) (2.1.2)\n",
            "Requirement already satisfied: Werkzeug>=2.2.2 in /usr/local/lib/python3.8/dist-packages (from Flask>=0.8->flask-ngrok) (2.2.3)\n",
            "Requirement already satisfied: certifi>=2017.4.17 in /usr/local/lib/python3.8/dist-packages (from requests->flask-ngrok) (2022.12.7)\n",
            "Requirement already satisfied: urllib3<1.27,>=1.21.1 in /usr/local/lib/python3.8/dist-packages (from requests->flask-ngrok) (1.26.14)\n",
            "Requirement already satisfied: idna<3,>=2.5 in /usr/local/lib/python3.8/dist-packages (from requests->flask-ngrok) (2.10)\n",
            "Requirement already satisfied: chardet<5,>=3.0.2 in /usr/local/lib/python3.8/dist-packages (from requests->flask-ngrok) (4.0.0)\n",
            "Requirement already satisfied: zipp>=0.5 in /usr/local/lib/python3.8/dist-packages (from importlib-metadata>=3.6.0->Flask>=0.8->flask-ngrok) (3.15.0)\n",
            "Requirement already satisfied: MarkupSafe>=2.0 in /usr/local/lib/python3.8/dist-packages (from Jinja2>=3.0->Flask>=0.8->flask-ngrok) (2.1.2)\n",
            "Installing collected packages: flask-ngrok\n",
            "Successfully installed flask-ngrok-0.0.25\n"
          ]
        }
      ],
      "source": [
        "!pip install flask-ngrok"
      ]
    },
    {
      "cell_type": "code",
      "execution_count": null,
      "metadata": {
        "id": "gvdV9b0IKh2Q"
      },
      "outputs": [],
      "source": [
        "from flask import Flask\n",
        "from flask_ngrok import run_with_ngrok"
      ]
    },
    {
      "cell_type": "code",
      "execution_count": null,
      "metadata": {
        "id": "J_bmIPFnKopM"
      },
      "outputs": [],
      "source": [
        "app = Flask(__name__)\n",
        "run_with_ngrok(app)"
      ]
    },
    {
      "cell_type": "code",
      "execution_count": null,
      "metadata": {
        "id": "cXxwupVUKveu"
      },
      "outputs": [],
      "source": [
        "@app.route(\"/\")\n",
        "def home():\n",
        "    return \"<h1>MRI Detector</h1>\""
      ]
    },
    {
      "cell_type": "code",
      "execution_count": null,
      "metadata": {
        "colab": {
          "background_save": true,
          "base_uri": "https://localhost:8080/"
        },
        "id": "MYatV68EK0P2",
        "outputId": "cf018489-e17d-490e-a540-33dc2500c623"
      },
      "outputs": [
        {
          "metadata": {
            "tags": null
          },
          "name": "stdout",
          "output_type": "stream",
          "text": [
            " * Serving Flask app '__main__'\n",
            " * Debug mode: off\n"
          ]
        },
        {
          "metadata": {
            "tags": null
          },
          "name": "stderr",
          "output_type": "stream",
          "text": [
            "INFO:werkzeug:\u001b[31m\u001b[1mWARNING: This is a development server. Do not use it in a production deployment. Use a production WSGI server instead.\u001b[0m\n",
            " * Running on http://127.0.0.1:5000\n",
            "INFO:werkzeug:\u001b[33mPress CTRL+C to quit\u001b[0m\n"
          ]
        },
        {
          "metadata": {
            "tags": null
          },
          "name": "stdout",
          "output_type": "stream",
          "text": [
            " * Running on http://821f-34-86-213-103.ngrok.io\n",
            " * Traffic stats available on http://127.0.0.1:4040\n"
          ]
        },
        {
          "metadata": {
            "tags": null
          },
          "name": "stderr",
          "output_type": "stream",
          "text": [
            "INFO:werkzeug:127.0.0.1 - - [28/Feb/2023 23:06:21] \"GET / HTTP/1.1\" 200 -\n",
            "INFO:werkzeug:127.0.0.1 - - [28/Feb/2023 23:06:23] \"\u001b[33mGET /favicon.ico HTTP/1.1\u001b[0m\" 404 -\n"
          ]
        }
      ],
      "source": [
        "app.run()"
      ]
    },
    {
      "cell_type": "code",
      "source": [
        "\n"
      ],
      "metadata": {
        "id": "U0As6R8HY0W8"
      },
      "execution_count": null,
      "outputs": []
    },
    {
      "cell_type": "markdown",
      "source": [
        "# Choosing A Model"
      ],
      "metadata": {
        "id": "254axumEer5u"
      }
    },
    {
      "cell_type": "code",
      "source": [
        "from tabulate import tabulate"
      ],
      "metadata": {
        "id": "9yI8yPferHSs"
      },
      "execution_count": 2,
      "outputs": []
    },
    {
      "cell_type": "code",
      "source": [
        "table = [['Model', 'Type', 'Function', 'Assumptions'],\n",
        "         ['kNN', 'Supervised', 'Finds nearest neighbors of an image and uses class'+'\\n'+'labels to predict label of new image', 'Assumes Euclidean distance is an appropriate metric'],\n",
        "         ['Hidden Markov', 'Unsupervised', 'Models relationship between sequence of extracted'+'\\n'+'features and corresponding class label', 'Current state does not depend on the past', ],\n",
        "         ['CNN', 'Supervised', 'Puts pixels into pixel array, applies filters'+'\\n'+'to create feature map, combines with activation,'+'\\n'+'pooling, etc, to predict image class', 'Sufficient data is provided; not spatial dependent'],\n",
        "         ['ViT', 'Supervised', 'Splits images into token patches, maps each'+'\\n'+'patch to a feature space with positional encoding,'+'\\n'+'before passing into a Transformer', 'Fixed resolution']]"
      ],
      "metadata": {
        "id": "dbggZZ2YrNdW"
      },
      "execution_count": null,
      "outputs": []
    },
    {
      "cell_type": "code",
      "source": [
        "print(tabulate(table, headers='firstrow', tablefmt='fancy_grid'))"
      ],
      "metadata": {
        "colab": {
          "base_uri": "https://localhost:8080/"
        },
        "id": "CFXc0kO8sKIN",
        "outputId": "684c114d-afbd-4983-a99e-cc14737c8a97"
      },
      "execution_count": null,
      "outputs": [
        {
          "output_type": "stream",
          "name": "stdout",
          "text": [
            "╒═══════════════╤══════════════╤════════════════════════════════════════════════════╤═════════════════════════════════════════════════════╕\n",
            "│ Model         │ Type         │ Function                                           │ Assumptions                                         │\n",
            "╞═══════════════╪══════════════╪════════════════════════════════════════════════════╪═════════════════════════════════════════════════════╡\n",
            "│ kNN           │ Supervised   │ Finds nearest neighbors of an image and uses class │ Assumes Euclidean distance is an appropriate metric │\n",
            "│               │              │ labels to predict label of new image               │                                                     │\n",
            "├───────────────┼──────────────┼────────────────────────────────────────────────────┼─────────────────────────────────────────────────────┤\n",
            "│ Hidden Markov │ Unsupervised │ Models relationship between sequence of extracted  │ Current state does not depend on the past           │\n",
            "│               │              │ features and corresponding class label             │                                                     │\n",
            "├───────────────┼──────────────┼────────────────────────────────────────────────────┼─────────────────────────────────────────────────────┤\n",
            "│ CNN           │ Supervised   │ Puts pixels into pixel array, applies filters      │ Sufficient data is provided; not spatial dependent  │\n",
            "│               │              │ to create feature map, combines with activation,   │                                                     │\n",
            "│               │              │ pooling, etc, to predict image class               │                                                     │\n",
            "├───────────────┼──────────────┼────────────────────────────────────────────────────┼─────────────────────────────────────────────────────┤\n",
            "│ ViT           │ Supervised   │ Splits images into token patches, maps each        │ Fixed resolution                                    │\n",
            "│               │              │ patch to a feature space with positional encoding, │                                                     │\n",
            "│               │              │ before passing into a Transformer                  │                                                     │\n",
            "╘═══════════════╧══════════════╧════════════════════════════════════════════════════╧═════════════════════════════════════════════════════╛\n"
          ]
        }
      ]
    },
    {
      "cell_type": "code",
      "source": [
        "table2 = [['Model', 'Pros', 'Cons'],\n",
        "         ['kNN', 'Simple and intuitive; has no assumptions; has no \\ntraining step; easy to implement; can be used for \\nboth regression and classification', 'slow runtime; does not work well with \\nincreased number of variables; sensitive to outliers'],\n",
        "         ['Hidden Markov', 'Can model complex temporal dependencies in data; \\nused for both supervised and unsupervised learning; \\nhandles missing data; computationally efficient', 'Limited to modeling linear dependencies in data; \\nrequires large dataset for training; sensitive to \\nchoice of initial parameters; does not work well \\nwith increased number of variables'],\n",
        "         ['CNN', 'Automatically learns hierarchical features from raw \\ndata; can handle inputs of different shapes and \\nsizes; reduces number of parameters needed for the model', 'Computationally intensive; prone to overfitting; \\nrequires large amount of training data'],\n",
        "         ['ViT', 'Can handle input images of different sizes; can learn \\nglobal representations of images; has a variety of \\napplications; can be trained with small datasets', 'Computationally expensive to train; requires \\nmore training data than CNNs']]"
      ],
      "metadata": {
        "id": "eEnAQV9p9zBF"
      },
      "execution_count": null,
      "outputs": []
    },
    {
      "cell_type": "code",
      "source": [
        "print(tabulate(table2, headers='firstrow', tablefmt='fancy_grid'))"
      ],
      "metadata": {
        "colab": {
          "base_uri": "https://localhost:8080/"
        },
        "id": "FkFtm9A9uubo",
        "outputId": "961080cf-3f7f-48c2-83e3-93f10d7b4139"
      },
      "execution_count": null,
      "outputs": [
        {
          "output_type": "stream",
          "name": "stdout",
          "text": [
            "╒═══════════════╤══════════════════════════════════════════════════════════╤══════════════════════════════════════════════════════╕\n",
            "│ Model         │ Pros                                                     │ Cons                                                 │\n",
            "╞═══════════════╪══════════════════════════════════════════════════════════╪══════════════════════════════════════════════════════╡\n",
            "│ kNN           │ Simple and intuitive; has no assumptions; has no         │ slow runtime; does not work well with                │\n",
            "│               │ training step; easy to implement; can be used for        │ increased number of variables; sensitive to outliers │\n",
            "│               │ both regression and classification                       │                                                      │\n",
            "├───────────────┼──────────────────────────────────────────────────────────┼──────────────────────────────────────────────────────┤\n",
            "│ Hidden Markov │ Can model complex temporal dependencies in data;         │ Limited to modeling linear dependencies in data;     │\n",
            "│               │ used for both supervised and unsupervised learning;      │ requires large dataset for training; sensitive to    │\n",
            "│               │ handles missing data; computationally efficient          │ choice of initial parameters; does not work well     │\n",
            "│               │                                                          │ with increased number of variables                   │\n",
            "├───────────────┼──────────────────────────────────────────────────────────┼──────────────────────────────────────────────────────┤\n",
            "│ CNN           │ Automatically learns hierarchical features from raw      │ Computationally intensive; prone to overfitting;     │\n",
            "│               │ data; can handle inputs of different shapes and          │ requires large amount of training data               │\n",
            "│               │ sizes; reduces number of parameters needed for the model │                                                      │\n",
            "├───────────────┼──────────────────────────────────────────────────────────┼──────────────────────────────────────────────────────┤\n",
            "│ ViT           │ Can handle input images of different sizes; can learn    │ Computationally expensive to train; requires         │\n",
            "│               │ global representations of images; has a variety of       │ more training data than CNNs                         │\n",
            "│               │ applications; can be trained with small datasets         │                                                      │\n",
            "╘═══════════════╧══════════════════════════════════════════════════════════╧══════════════════════════════════════════════════════╛\n"
          ]
        }
      ]
    },
    {
      "cell_type": "markdown",
      "source": [
        "**Chosen**: Vision Transformers (ViT)"
      ],
      "metadata": {
        "id": "Lz36yYRqVyJC"
      }
    },
    {
      "cell_type": "markdown",
      "source": [
        "# About Vision Transformers\n",
        "First introduced in 2020 by Google Brain, ViT is a powerful and efficient model that translates the popular Transformer models in NLP to computer vision.\n",
        "\n",
        "## Model Architecture\n",
        "\n",
        "![image.png](https://viso.ai/wp-content/uploads/2021/09/vision-transformer-vit.png)\n",
        "\n",
        "As we can see, an image is broken into patches of fixed size like 16x16 or 32x32 (which is why \"An Image is worth 16x16 words\").\n",
        "\n",
        "The patches are flattened and sent to the encoder through a linear projection. To keep track of where each patch is, a positional embedding vector is also sent into the encoder as an input.\n",
        "\n",
        "![image1.png](https://github.com/lucidrains/vit-pytorch/raw/main/images/vit.gif)\n",
        "\n",
        "The first token of the transformer is special.\n",
        "\n",
        "The encoder then combines the patches with the positional embedding vector. Its output is passed directly into an MLP to obtain a classification output."
      ],
      "metadata": {
        "id": "fLYlUTLIV4YI"
      }
    },
    {
      "cell_type": "code",
      "source": [
        "table3 = [['Library', 'Pros', 'Cons'],\n",
        "         ['TensorFlow', 'Simple and intuitive; has no assumptions; has no \\ntraining step; easy to implement; can be used for \\nboth regression and classification', 'slow runtime; does not work well with \\nincreased number of variables; sensitive to outliers'],\n",
        "         ['PyTorch', 'Can model complex temporal dependencies in data; \\nused for both supervised and unsupervised learning; \\nhandles missing data; computationally efficient', 'Limited to modeling linear dependencies in data; \\nrequires large dataset for training; sensitive to \\nchoice of initial parameters; does not work well \\nwith increased number of variables'],\n",
        "         ['JAX', 'Automatically learns hierarchical features from raw \\ndata; can handle inputs of different shapes and \\nsizes; reduces number of parameters needed for the model', 'Computationally intensive; prone to overfitting; \\nrequires large amount of training data']]"
      ],
      "metadata": {
        "id": "5gvbw_YPL1OJ"
      },
      "execution_count": 6,
      "outputs": []
    },
    {
      "cell_type": "code",
      "source": [
        "print(tabulate(table3, headers='firstrow', tablefmt='fancy_grid'))"
      ],
      "metadata": {
        "colab": {
          "base_uri": "https://localhost:8080/"
        },
        "id": "r5VimN48SMol",
        "outputId": "b57e47ae-fa52-4902-c694-f0f2de14800c"
      },
      "execution_count": 7,
      "outputs": [
        {
          "output_type": "stream",
          "name": "stdout",
          "text": [
            "╒════════════╤══════════════════════════════════════════════════════════╤══════════════════════════════════════════════════════╕\n",
            "│ Library    │ Pros                                                     │ Cons                                                 │\n",
            "╞════════════╪══════════════════════════════════════════════════════════╪══════════════════════════════════════════════════════╡\n",
            "│ TensorFlow │ Simple and intuitive; has no assumptions; has no         │ slow runtime; does not work well with                │\n",
            "│            │ training step; easy to implement; can be used for        │ increased number of variables; sensitive to outliers │\n",
            "│            │ both regression and classification                       │                                                      │\n",
            "├────────────┼──────────────────────────────────────────────────────────┼──────────────────────────────────────────────────────┤\n",
            "│ PyTorch    │ Can model complex temporal dependencies in data;         │ Limited to modeling linear dependencies in data;     │\n",
            "│            │ used for both supervised and unsupervised learning;      │ requires large dataset for training; sensitive to    │\n",
            "│            │ handles missing data; computationally efficient          │ choice of initial parameters; does not work well     │\n",
            "│            │                                                          │ with increased number of variables                   │\n",
            "├────────────┼──────────────────────────────────────────────────────────┼──────────────────────────────────────────────────────┤\n",
            "│ JAX        │ Automatically learns hierarchical features from raw      │ Computationally intensive; prone to overfitting;     │\n",
            "│            │ data; can handle inputs of different shapes and          │ requires large amount of training data               │\n",
            "│            │ sizes; reduces number of parameters needed for the model │                                                      │\n",
            "╘════════════╧══════════════════════════════════════════════════════════╧══════════════════════════════════════════════════════╛\n"
          ]
        }
      ]
    },
    {
      "cell_type": "code",
      "source": [
        "table4 = [['Pre-train vs. Self-train', 'Pros', 'Cons'],\n",
        "         ['Pre-train', 'Simple and intuitive; has no assumptions; has no \\ntraining step; easy to implement; can be used for \\nboth regression and classification', 'slow runtime; does not work well with \\nincreased number of variables; sensitive to outliers'],\n",
        "         ['Self-train', 'Can model complex temporal dependencies in data; \\nused for both supervised and unsupervised learning; \\nhandles missing data; computationally efficient', 'Limited to modeling linear dependencies in data; \\nrequires large dataset for training; sensitive to \\nchoice of initial parameters; does not work well \\nwith increased number of variables']]"
      ],
      "metadata": {
        "id": "5CmqUuwGSgrV"
      },
      "execution_count": 10,
      "outputs": []
    },
    {
      "cell_type": "code",
      "source": [
        "print(tabulate(table3, headers='firstrow', tablefmt='fancy_grid'))"
      ],
      "metadata": {
        "colab": {
          "base_uri": "https://localhost:8080/"
        },
        "id": "gkMyy3X8SlVh",
        "outputId": "fe9fda43-8dfe-4f71-9c03-5c2e0dd3cf1e"
      },
      "execution_count": 11,
      "outputs": [
        {
          "output_type": "stream",
          "name": "stdout",
          "text": [
            "╒════════════╤══════════════════════════════════════════════════════════╤══════════════════════════════════════════════════════╕\n",
            "│ Library    │ Pros                                                     │ Cons                                                 │\n",
            "╞════════════╪══════════════════════════════════════════════════════════╪══════════════════════════════════════════════════════╡\n",
            "│ TensorFlow │ Simple and intuitive; has no assumptions; has no         │ slow runtime; does not work well with                │\n",
            "│            │ training step; easy to implement; can be used for        │ increased number of variables; sensitive to outliers │\n",
            "│            │ both regression and classification                       │                                                      │\n",
            "├────────────┼──────────────────────────────────────────────────────────┼──────────────────────────────────────────────────────┤\n",
            "│ PyTorch    │ Can model complex temporal dependencies in data;         │ Limited to modeling linear dependencies in data;     │\n",
            "│            │ used for both supervised and unsupervised learning;      │ requires large dataset for training; sensitive to    │\n",
            "│            │ handles missing data; computationally efficient          │ choice of initial parameters; does not work well     │\n",
            "│            │                                                          │ with increased number of variables                   │\n",
            "├────────────┼──────────────────────────────────────────────────────────┼──────────────────────────────────────────────────────┤\n",
            "│ JAX        │ Automatically learns hierarchical features from raw      │ Computationally intensive; prone to overfitting;     │\n",
            "│            │ data; can handle inputs of different shapes and          │ requires large amount of training data               │\n",
            "│            │ sizes; reduces number of parameters needed for the model │                                                      │\n",
            "╘════════════╧══════════════════════════════════════════════════════════╧══════════════════════════════════════════════════════╛\n"
          ]
        }
      ]
    }
  ],
  "metadata": {
    "colab": {
      "provenance": [],
      "include_colab_link": true
    },
    "kernelspec": {
      "display_name": "Python 3",
      "name": "python3"
    },
    "language_info": {
      "name": "python"
    }
  },
  "nbformat": 4,
  "nbformat_minor": 0
}